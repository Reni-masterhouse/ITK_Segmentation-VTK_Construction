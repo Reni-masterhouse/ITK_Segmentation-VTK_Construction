{
 "cells": [
  {
   "cell_type": "code",
   "execution_count": 2,
   "metadata": {},
   "outputs": [],
   "source": [
    "%matplotlib inline\n",
    "\n",
    "import scipy.io as scio\n",
    "import SimpleITK as sitk\n",
    "import numpy as np\n",
    "import pandas as pd\n",
    "import matplotlib.pyplot as plt\n",
    "from myshow import myshow, myshow3d"
   ]
  },
  {
   "cell_type": "code",
   "execution_count": 5,
   "metadata": {},
   "outputs": [
    {
     "data": {
      "application/vnd.jupyter.widget-view+json": {
       "model_id": "23f22b4fcfa448379c31fe488ff40be0",
       "version_major": 2,
       "version_minor": 0
      },
      "text/plain": [
       "interactive(children=(IntSlider(value=229, description='z', max=459), Output()), _dom_classes=('widget-interac…"
      ]
     },
     "metadata": {},
     "output_type": "display_data"
    }
   ],
   "source": [
    "img = sitk.ReadImage('save.nii.gz')\n",
    "img_255 = sitk.Cast(sitk.RescaleIntensity(img), sitk.sitkUInt8)\n",
    "myshow3d(img)"
   ]
  },
  {
   "cell_type": "code",
   "execution_count": 4,
   "metadata": {},
   "outputs": [
    {
     "data": {
      "application/vnd.jupyter.widget-view+json": {
       "model_id": "94c75c71b07345ed93e7d9dbe398f40e",
       "version_major": 2,
       "version_minor": 0
      },
      "text/plain": [
       "interactive(children=(IntSlider(value=229, description='z', max=459), Output()), _dom_classes=('widget-interac…"
      ]
     },
     "metadata": {},
     "output_type": "display_data"
    }
   ],
   "source": [
    "seed_pts = [(272,317,249), (202,292,249)]\n",
    "seg = sitk.Image(img.GetSize(), sitk.sitkUInt8)\n",
    "seg.CopyInformation(img)\n",
    "seg[seed_pts[0]] = 1\n",
    "seg[seed_pts[1]] = 1\n",
    "seg = sitk.BinaryDilate(seg, [3]*seg.GetDimension())\n",
    "myshow(sitk.LabelOverlay(img_255, seg), \"Initial Seed\")"
   ]
  },
  {
   "cell_type": "code",
   "execution_count": 6,
   "metadata": {},
   "outputs": [],
   "source": [
    "seg = sitk.ConfidenceConnected(img, seedList=seed_pts,\n",
    "                                   numberOfIterations=1,\n",
    "                                   multiplier=4,\n",
    "                                   initialNeighborhoodRadius=1,\n",
    "                                   replaceValue=1)"
   ]
  },
  {
   "cell_type": "code",
   "execution_count": 7,
   "metadata": {},
   "outputs": [
    {
     "data": {
      "application/vnd.jupyter.widget-view+json": {
       "model_id": "6cba7a162215410ca3f1fe15a221501c",
       "version_major": 2,
       "version_minor": 0
      },
      "text/plain": [
       "interactive(children=(IntSlider(value=229, description='z', max=459), Output()), _dom_classes=('widget-interac…"
      ]
     },
     "metadata": {},
     "output_type": "display_data"
    }
   ],
   "source": [
    "myshow(sitk.LabelOverlay(img_255, seg), \"ConfidenceConnected\")"
   ]
  },
  {
   "cell_type": "code",
   "execution_count": 8,
   "metadata": {},
   "outputs": [],
   "source": [
    "BMC = sitk.BinaryMorphologicalClosingImageFilter()\n",
    "BMC.SetKernelType(sitk.sitkBall)\n",
    "BMC.SetKernelRadius(1)\n",
    "BMC.SetForegroundValue(1)\n",
    "OUT = BMC.Execute(seg)"
   ]
  },
  {
   "cell_type": "code",
   "execution_count": 9,
   "metadata": {},
   "outputs": [
    {
     "data": {
      "application/vnd.jupyter.widget-view+json": {
       "model_id": "cdf6961d63e7450a968bb696a2598304",
       "version_major": 2,
       "version_minor": 0
      },
      "text/plain": [
       "interactive(children=(IntSlider(value=229, description='z', max=459), Output()), _dom_classes=('widget-interac…"
      ]
     },
     "metadata": {},
     "output_type": "display_data"
    }
   ],
   "source": [
    "myshow(sitk.LabelOverlay(img_255, OUT), \"BMClosingImage\")"
   ]
  },
  {
   "cell_type": "code",
   "execution_count": 11,
   "metadata": {},
   "outputs": [
    {
     "data": {
      "application/vnd.jupyter.widget-view+json": {
       "model_id": "cd264d0f7dae421fbdf52632b4f46c57",
       "version_major": 2,
       "version_minor": 0
      },
      "text/plain": [
       "interactive(children=(IntSlider(value=66, description='z', max=132), Output()), _dom_classes=('widget-interact…"
      ]
     },
     "metadata": {},
     "output_type": "display_data"
    }
   ],
   "source": [
    "OUT_225 = OUT[:, :, 327:]\n",
    "out_erode = sitk.BinaryErode(OUT_225, [4] * OUT_225.GetDimension())\n",
    "out_dilate = sitk.BinaryDilate(out_erode, [4] * out_erode.GetDimension())\n",
    "myshow(sitk.LabelOverlay(img_255[:, :, 327:], out_dilate), \"dilated\")"
   ]
  },
  {
   "cell_type": "code",
   "execution_count": 12,
   "metadata": {},
   "outputs": [
    {
     "data": {
      "application/vnd.jupyter.widget-view+json": {
       "model_id": "cb1725758e514fdf98e4523468129725",
       "version_major": 2,
       "version_minor": 0
      },
      "text/plain": [
       "interactive(children=(IntSlider(value=229, description='z', max=459), Output()), _dom_classes=('widget-interac…"
      ]
     },
     "metadata": {},
     "output_type": "display_data"
    }
   ],
   "source": [
    "out_final = sitk.Paste(OUT, out_dilate, out_dilate.GetSize(), destinationIndex=[0,0,0])\n",
    "myshow(sitk.LabelOverlay(img_255, out_final), \"BinaryErode\")"
   ]
  }
 ],
 "metadata": {
  "interpreter": {
   "hash": "f96cbbd70cd1909bc14db0c45458a4fe82748321cc80471f93096a889cf0c30f"
  },
  "kernelspec": {
   "display_name": "Python 3.8.3 ('base')",
   "language": "python",
   "name": "python3"
  },
  "language_info": {
   "codemirror_mode": {
    "name": "ipython",
    "version": 3
   },
   "file_extension": ".py",
   "mimetype": "text/x-python",
   "name": "python",
   "nbconvert_exporter": "python",
   "pygments_lexer": "ipython3",
   "version": "3.8.3"
  },
  "orig_nbformat": 4
 },
 "nbformat": 4,
 "nbformat_minor": 2
}
