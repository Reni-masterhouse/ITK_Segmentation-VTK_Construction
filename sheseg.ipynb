{
 "cells": [
  {
   "cell_type": "code",
   "execution_count": 1,
   "metadata": {},
   "outputs": [],
   "source": [
    "%matplotlib inline\n",
    "\n",
    "import scipy.io as scio\n",
    "import SimpleITK as sitk\n",
    "import numpy as np\n",
    "import pandas as pd\n",
    "import matplotlib.pyplot as plt\n",
    "from myshow import myshow, myshow3d"
   ]
  },
  {
   "cell_type": "code",
   "execution_count": 11,
   "metadata": {},
   "outputs": [
    {
     "data": {
      "application/vnd.jupyter.widget-view+json": {
       "model_id": "65d28682aca14d2a9a431a1be8038146",
       "version_major": 2,
       "version_minor": 0
      },
      "text/plain": [
       "interactive(children=(IntSlider(value=229, description='z', max=459), Output()), _dom_classes=('widget-interac…"
      ]
     },
     "metadata": {},
     "output_type": "display_data"
    }
   ],
   "source": [
    "img = sitk.ReadImage('liver2.nii.gz')\n",
    "img_255 = sitk.Cast(sitk.RescaleIntensity(img), sitk.sitkUInt8)\n",
    "myshow3d(img)"
   ]
  },
  {
   "cell_type": "code",
   "execution_count": 3,
   "metadata": {},
   "outputs": [
    {
     "data": {
      "application/vnd.jupyter.widget-view+json": {
       "model_id": "9ed902bf4da1436fabe8a017d95c239a",
       "version_major": 2,
       "version_minor": 0
      },
      "text/plain": [
       "interactive(children=(IntSlider(value=229, description='z', max=459), Output()), _dom_classes=('widget-interac…"
      ]
     },
     "metadata": {},
     "output_type": "display_data"
    }
   ],
   "source": [
    "seed_pts = [(240,195,211), (310,220,211)]\n",
    "seg = sitk.Image(img.GetSize(), sitk.sitkUInt8)\n",
    "seg.CopyInformation(img)\n",
    "seg[seed_pts[0]] = 1\n",
    "seg[seed_pts[1]] = 1\n",
    "seg = sitk.BinaryDilate(seg, [3]*seg.GetDimension())\n",
    "myshow(sitk.LabelOverlay(img_255, seg), \"Initial Seed\")"
   ]
  },
  {
   "cell_type": "code",
   "execution_count": 4,
   "metadata": {},
   "outputs": [],
   "source": [
    "seg = sitk.ConfidenceConnected(img, seedList=seed_pts,\n",
    "                                   numberOfIterations=1,\n",
    "                                   multiplier=4,\n",
    "                                   initialNeighborhoodRadius=1,\n",
    "                                   replaceValue=1)"
   ]
  },
  {
   "cell_type": "code",
   "execution_count": 6,
   "metadata": {},
   "outputs": [
    {
     "data": {
      "application/vnd.jupyter.widget-view+json": {
       "model_id": "4f4840eb328a43c28bc62268161ef2a5",
       "version_major": 2,
       "version_minor": 0
      },
      "text/plain": [
       "interactive(children=(IntSlider(value=229, description='z', max=459), Output()), _dom_classes=('widget-interac…"
      ]
     },
     "metadata": {},
     "output_type": "display_data"
    }
   ],
   "source": [
    "myshow(sitk.LabelOverlay(img_255, seg), \"ConfidenceConnected\")"
   ]
  },
  {
   "cell_type": "code",
   "execution_count": 9,
   "metadata": {},
   "outputs": [],
   "source": [
    "BMC = sitk.BinaryMorphologicalClosingImageFilter()\n",
    "BMC.SetKernelType(sitk.sitkBall)\n",
    "BMC.SetKernelRadius(1)\n",
    "BMC.SetForegroundValue(1)\n",
    "OUT = BMC.Execute(seg)"
   ]
  },
  {
   "cell_type": "code",
   "execution_count": 10,
   "metadata": {},
   "outputs": [
    {
     "data": {
      "application/vnd.jupyter.widget-view+json": {
       "model_id": "6b8d69ba79da42928646f350edf3ab7d",
       "version_major": 2,
       "version_minor": 0
      },
      "text/plain": [
       "interactive(children=(IntSlider(value=229, description='z', max=459), Output()), _dom_classes=('widget-interac…"
      ]
     },
     "metadata": {},
     "output_type": "display_data"
    }
   ],
   "source": [
    "myshow(sitk.LabelOverlay(img_255, OUT), \"BMClosingImage\")"
   ]
  },
  {
   "cell_type": "code",
   "execution_count": 8,
   "metadata": {},
   "outputs": [
    {
     "data": {
      "application/vnd.jupyter.widget-view+json": {
       "model_id": "748fed2169aa47f49a5e88561e86ed39",
       "version_major": 2,
       "version_minor": 0
      },
      "text/plain": [
       "interactive(children=(IntSlider(value=198, description='z', max=396), Output()), _dom_classes=('widget-interac…"
      ]
     },
     "metadata": {},
     "output_type": "display_data"
    }
   ],
   "source": [
    "OUT_225 = OUT[:, :, :397]\n",
    "out_erode = sitk.BinaryErode(OUT_225, [4] * OUT_225.GetDimension())\n",
    "out_dilate = sitk.BinaryDilate(out_erode, [4] * out_erode.GetDimension())\n",
    "myshow(sitk.LabelOverlay(img_255[:, :, :397], out_dilate), \"dilated\")"
   ]
  },
  {
   "cell_type": "code",
   "execution_count": 9,
   "metadata": {},
   "outputs": [
    {
     "data": {
      "application/vnd.jupyter.widget-view+json": {
       "model_id": "e84f7c1acdd8466e9668f53d9088e5a8",
       "version_major": 2,
       "version_minor": 0
      },
      "text/plain": [
       "interactive(children=(IntSlider(value=229, description='z', max=459), Output()), _dom_classes=('widget-interac…"
      ]
     },
     "metadata": {},
     "output_type": "display_data"
    }
   ],
   "source": [
    "out_final = sitk.Paste(OUT, out_dilate, out_dilate.GetSize(), destinationIndex=[0,0,0])\n",
    "myshow(sitk.LabelOverlay(img_255, out_final), \"ConfidenceConnected\")"
   ]
  },
  {
   "cell_type": "code",
   "execution_count": 7,
   "metadata": {},
   "outputs": [],
   "source": [
    "out_array = sitk.GetArrayFromImage(OUT)\n",
    "origin = OUT.GetOrigin()\n",
    "direction = OUT.GetDirection()\n",
    "space = OUT.GetSpacing()"
   ]
  },
  {
   "cell_type": "code",
   "execution_count": 41,
   "metadata": {},
   "outputs": [],
   "source": [
    "savedImg = sitk.GetImageFromArray(out_array)\n",
    "savedImg.SetOrigin(origin)\n",
    "savedImg.SetDirection(direction)\n",
    "savedImg.SetSpacing(space)\n",
    "sitk.WriteImage(savedImg, 'spleen_seg2.nii.gz')"
   ]
  }
 ],
 "metadata": {
  "interpreter": {
   "hash": "f96cbbd70cd1909bc14db0c45458a4fe82748321cc80471f93096a889cf0c30f"
  },
  "kernelspec": {
   "display_name": "Python 3.8.3 ('base')",
   "language": "python",
   "name": "python3"
  },
  "language_info": {
   "codemirror_mode": {
    "name": "ipython",
    "version": 3
   },
   "file_extension": ".py",
   "mimetype": "text/x-python",
   "name": "python",
   "nbconvert_exporter": "python",
   "pygments_lexer": "ipython3",
   "version": "3.8.3"
  },
  "orig_nbformat": 4
 },
 "nbformat": 4,
 "nbformat_minor": 2
}
